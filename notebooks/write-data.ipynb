{
 "cells": [
  {
   "cell_type": "code",
   "execution_count": 1,
   "metadata": {},
   "outputs": [],
   "source": [
    "import requests\n",
    "import pytz\n",
    "import datetime\n",
    "import os\n",
    "import csv"
   ]
  },
  {
   "cell_type": "code",
   "execution_count": 2,
   "metadata": {},
   "outputs": [],
   "source": [
    "json_data = requests.get(\"https://aquametric.menon.pro/data/002/log.json\").json()"
   ]
  },
  {
   "cell_type": "code",
   "execution_count": 3,
   "metadata": {},
   "outputs": [],
   "source": [
    "date_format = '%Y-%m-%dT%H:%M:%S.%f%z'\n",
    "my_timezone = pytz.timezone('US/Eastern')\n",
    "\n",
    "thresh_date = datetime.datetime(2020, 4, 11, 16, 15, 0).replace(tzinfo=my_timezone)\n",
    "\n",
    "def convert_date(date_str):\n",
    "    return datetime.datetime.strptime(date_str, date_format).astimezone(my_timezone)\n",
    "\n",
    "json_data = {convert_date(date): data for date, data in json_data.items() if convert_date(date) < thresh_date}"
   ]
  },
  {
   "cell_type": "code",
   "execution_count": 4,
   "metadata": {},
   "outputs": [],
   "source": [
    "dates = sorted(list(json_data.keys()))\n",
    "stages = [json_data[date][\"data\"][\"stage\"] for date in dates]\n",
    "dates = [(date - dates[0]).total_seconds() / 60 for date in dates]\n",
    "data = [[date, stage] for date, stage in zip(dates, stages)]"
   ]
  },
  {
   "cell_type": "code",
   "execution_count": 5,
   "metadata": {},
   "outputs": [],
   "source": [
    "with open(os.path.expanduser('~/out.csv'), 'w') as f:\n",
    "    writer = csv.writer(f)\n",
    "    writer.writerow([\"Time (Minutes)\", \"Stage (mm)\"])\n",
    "    writer.writerows(data)"
   ]
  }
 ],
 "metadata": {
  "kernelspec": {
   "display_name": "Python 3",
   "language": "python",
   "name": "python3"
  },
  "language_info": {
   "codemirror_mode": {
    "name": "ipython",
    "version": 3
   },
   "file_extension": ".py",
   "mimetype": "text/x-python",
   "name": "python",
   "nbconvert_exporter": "python",
   "pygments_lexer": "ipython3",
   "version": "3.7.3"
  }
 },
 "nbformat": 4,
 "nbformat_minor": 4
}
